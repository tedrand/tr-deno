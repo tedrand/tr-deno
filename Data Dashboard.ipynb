{
 "cells": [
  {
   "cell_type": "code",
   "execution_count": 2,
   "metadata": {},
   "outputs": [],
   "source": [
    "import requests\n",
    "from dotenv import load_dotenv\n",
    "import os\n",
    "import json\n",
    "\n",
    "load_dotenv()"
   ]
  },
  {
   "cell_type": "code",
   "execution_count": 26,
   "metadata": {},
   "outputs": [],
   "source": [
    "def ct_to_json(ct):\n",
    "    API_KEY = os.getenv(\"CTLSTNR_KEY\")\n",
    "    response = requests.get(\n",
    "        f\"https://www.courtlistener.com/api/rest/v3/opinions/?cluster__docket__court__id={ct}&date_created_gt=2020-05-18T00:00:00z\",\n",
    "        params={'q': 'requests+language:python'},\n",
    "        headers={\"Authorization\": f\"Token {API_KEY}\"},\n",
    "    )\n",
    "    data = response.json()['results']\n",
    "    with open(f\"./assets/cache/{ct}.json\", 'w') as f:\n",
    "        json.dump(data, f)"
   ]
  },
  {
   "cell_type": "code",
   "execution_count": 27,
   "metadata": {},
   "outputs": [],
   "source": [
    "ct_to_json(\"scotus\")"
   ]
  }
 ],
 "metadata": {
  "kernelspec": {
   "display_name": "Python 3",
   "language": "python",
   "name": "python3"
  },
  "language_info": {
   "codemirror_mode": {
    "name": "ipython",
    "version": 3
   },
   "file_extension": ".py",
   "mimetype": "text/x-python",
   "name": "python",
   "nbconvert_exporter": "python",
   "pygments_lexer": "ipython3",
   "version": "3.8.3"
  }
 },
 "nbformat": 4,
 "nbformat_minor": 4
}
